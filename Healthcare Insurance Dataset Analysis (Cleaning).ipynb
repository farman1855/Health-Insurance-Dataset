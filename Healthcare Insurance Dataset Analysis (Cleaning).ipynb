{
    "nbformat_minor": 0, 
    "metadata": {
        "language_info": {
            "pygments_lexer": "ipython2", 
            "name": "python", 
            "file_extension": ".py", 
            "codemirror_mode": {
                "name": "ipython", 
                "version": 2
            }, 
            "mimetype": "text/x-python", 
            "nbconvert_exporter": "python", 
            "version": "2.7.11"
        }, 
        "kernelspec": {
            "language": "python", 
            "name": "python2", 
            "display_name": "Python 2 with Spark 1.6"
        }
    }, 
    "nbformat": 4, 
    "cells": [
        {
            "source": "# Health Insurance Marketplace Dataset Analysis", 
            "metadata": {}, 
            "cell_type": "markdown"
        }, 
        {
            "source": "# Introduction", 
            "metadata": {}, 
            "cell_type": "markdown"
        }, 
        {
            "source": "Analysis of the health insurance marketplace dataset from the U.S.The dataset consists of health insurance and dental plans offered through healthcare.gov between 2014 and 2016. It encompasses rates for smokers and non-smokers, separately listed for each age group, benefits included in the plans, states in which the plans were offered, and other information. The dataset does not contain any information on actual purchases. This notebook will show data cleaning.", 
            "metadata": {}, 
            "cell_type": "markdown"
        }, 
        {
            "source": "# Goal for this Notebook:", 
            "metadata": {}, 
            "cell_type": "markdown"
        }, 
        {
            "source": "This Notebook will show :                   \n$1$ : Data Handling                    \n$2$ : Importing Data with Pandas                                 \n$3$ : Cleaning Data   ", 
            "metadata": {}, 
            "cell_type": "markdown"
        }, 
        {
            "source": "# Libraries Installation ", 
            "metadata": {}, 
            "cell_type": "markdown"
        }, 
        {
            "execution_count": 1, 
            "outputs": [
                {
                    "name": "stdout", 
                    "output_type": "stream", 
                    "text": "Requirement already satisfied: feather-format in /gpfs/global_fs01/sym_shared/YPProdSpark/user/s3f0-2d12d2c01fc95f-04662317cedd/.local/lib/python2.7/site-packages\r\nRequirement already satisfied: cython>=0.21 in /usr/local/src/bluemix_jupyter_bundle.v36/notebook/lib/python2.7/site-packages (from feather-format)\r\n"
                }
            ], 
            "source": "!pip install feather-format", 
            "metadata": {
                "collapsed": false
            }, 
            "cell_type": "code"
        }, 
        {
            "source": "# Reuired Libraries ", 
            "metadata": {}, 
            "cell_type": "markdown"
        }, 
        {
            "execution_count": 2, 
            "outputs": [], 
            "source": "import pandas as pd\nimport csv as csv\nimport feather", 
            "metadata": {
                "collapsed": true
            }, 
            "cell_type": "code"
        }, 
        {
            "source": "\n# Data Handling", 
            "metadata": {}, 
            "cell_type": "markdown"
        }, 
        {
            "source": "# Load Data from Object Storage", 
            "metadata": {}, 
            "cell_type": "markdown"
        }, 
        {
            "execution_count": 3, 
            "outputs": [], 
            "source": "import requests, StringIO, json\n\ndef get_file_content(credentials):\n    \"\"\"For given credentials, this functions returns a StringIO object containg the file content \n    from the associated Bluemix Object Storage V3.\"\"\"\n\n    url1 = ''.join([credentials['auth_url'], '/v3/auth/tokens'])\n    data = {'auth': {'identity': {'methods': ['password'],\n            'password': {'user': {'name': credentials['username'],'domain': {'id': credentials['domain_id']},\n            'password': credentials['password']}}}}}\n    headers1 = {'Content-Type': 'application/json'}\n    resp1 = requests.post(url=url1, data=json.dumps(data), headers=headers1)\n    resp1_body = resp1.json()\n    for e1 in resp1_body['token']['catalog']:\n        if(e1['type']=='object-store'):\n            for e2 in e1['endpoints']:\n                if(e2['interface']=='public'and e2['region']==credentials['region']):\n                    url2 = ''.join([e2['url'],'/', credentials['container'], '/', credentials['filename']])\n    s_subject_token = resp1.headers['x-subject-token']\n    headers2 = {'X-Auth-Token': s_subject_token, 'accept': 'application/json'}\n    resp2 = requests.get(url=url2, headers=headers2)\n    return StringIO.StringIO(resp2.content)", 
            "metadata": {
                "collapsed": true
            }, 
            "cell_type": "code"
        }, 
        {
            "execution_count": 4, 
            "outputs": [], 
            "source": "# @hidden_cell\ncredentials_3 = {\n  'auth_url':'https://identity.open.softlayer.com',\n  'project':'object_storage_2b828cf4_900f_402f_bf48_658e734e24eb',\n  'project_id':'3363315e0847493e95e2dd6627dff446',\n  'region':'dallas',\n  'user_id':'f3773ad53f0f40fabb319b8c57fe2923',\n  'domain_id':'7379ce49c7b448f0842f8de5825740e1',\n  'domain_name':'1251707',\n  'username':'member_2fc4f98b62fe31a0a9622663bf1e641e3ec376bd',\n  'password':\"\"\"PrvFu_qoa[Y.32KV\"\"\",\n  'container':'HealthcareMarketPlace',\n  'tenantId':'undefined',\n  'filename':'Rate.csv'\n}", 
            "metadata": {
                "collapsed": true
            }, 
            "cell_type": "code"
        }, 
        {
            "execution_count": 5, 
            "outputs": [], 
            "source": "# @hidden_cell\ncredentials_4 = {\n  'auth_url':'https://identity.open.softlayer.com',\n  'project':'object_storage_2b828cf4_900f_402f_bf48_658e734e24eb',\n  'project_id':'3363315e0847493e95e2dd6627dff446',\n  'region':'dallas',\n  'user_id':'f3773ad53f0f40fabb319b8c57fe2923',\n  'domain_id':'7379ce49c7b448f0842f8de5825740e1',\n  'domain_name':'1251707',\n  'username':'member_2fc4f98b62fe31a0a9622663bf1e641e3ec376bd',\n  'password':\"\"\"PrvFu_qoa[Y.32KV\"\"\",\n  'container':'HealthcareMarketPlace',\n  'tenantId':'undefined',\n  'filename':'PlanAttributes.csv'\n}", 
            "metadata": {
                "collapsed": true
            }, 
            "cell_type": "code"
        }, 
        {
            "execution_count": 6, 
            "outputs": [
                {
                    "execution_count": 6, 
                    "output_type": "execute_result", 
                    "data": {
                        "text/html": "<div>\n<table border=\"1\" class=\"dataframe\">\n  <thead>\n    <tr style=\"text-align: right;\">\n      <th></th>\n      <th>BusinessYear</th>\n      <th>StateCode</th>\n      <th>IssuerId</th>\n      <th>SourceName</th>\n      <th>VersionNum</th>\n      <th>ImportDate</th>\n      <th>IssuerId2</th>\n      <th>FederalTIN</th>\n      <th>RateEffectiveDate</th>\n      <th>RateExpirationDate</th>\n      <th>...</th>\n      <th>IndividualRate</th>\n      <th>IndividualTobaccoRate</th>\n      <th>Couple</th>\n      <th>PrimarySubscriberAndOneDependent</th>\n      <th>PrimarySubscriberAndTwoDependents</th>\n      <th>PrimarySubscriberAndThreeOrMoreDependents</th>\n      <th>CoupleAndOneDependent</th>\n      <th>CoupleAndTwoDependents</th>\n      <th>CoupleAndThreeOrMoreDependents</th>\n      <th>RowNumber</th>\n    </tr>\n  </thead>\n  <tbody>\n    <tr>\n      <th>0</th>\n      <td>2014</td>\n      <td>AK</td>\n      <td>21989</td>\n      <td>HIOS</td>\n      <td>6</td>\n      <td>2014-03-19 07:06:49</td>\n      <td>21989</td>\n      <td>93-0438772</td>\n      <td>2014-01-01</td>\n      <td>2014-12-31</td>\n      <td>...</td>\n      <td>29.00</td>\n      <td>NaN</td>\n      <td>NaN</td>\n      <td>NaN</td>\n      <td>NaN</td>\n      <td>NaN</td>\n      <td>NaN</td>\n      <td>NaN</td>\n      <td>NaN</td>\n      <td>14</td>\n    </tr>\n    <tr>\n      <th>1</th>\n      <td>2014</td>\n      <td>AK</td>\n      <td>21989</td>\n      <td>HIOS</td>\n      <td>6</td>\n      <td>2014-03-19 07:06:49</td>\n      <td>21989</td>\n      <td>93-0438772</td>\n      <td>2014-01-01</td>\n      <td>2014-12-31</td>\n      <td>...</td>\n      <td>36.95</td>\n      <td>NaN</td>\n      <td>73.9</td>\n      <td>107.61</td>\n      <td>107.61</td>\n      <td>107.61</td>\n      <td>144.56</td>\n      <td>144.56</td>\n      <td>144.56</td>\n      <td>14</td>\n    </tr>\n    <tr>\n      <th>2</th>\n      <td>2014</td>\n      <td>AK</td>\n      <td>21989</td>\n      <td>HIOS</td>\n      <td>6</td>\n      <td>2014-03-19 07:06:49</td>\n      <td>21989</td>\n      <td>93-0438772</td>\n      <td>2014-01-01</td>\n      <td>2014-12-31</td>\n      <td>...</td>\n      <td>36.95</td>\n      <td>NaN</td>\n      <td>73.9</td>\n      <td>107.61</td>\n      <td>107.61</td>\n      <td>107.61</td>\n      <td>144.56</td>\n      <td>144.56</td>\n      <td>144.56</td>\n      <td>15</td>\n    </tr>\n  </tbody>\n</table>\n<p>3 rows \u00d7 24 columns</p>\n</div>", 
                        "text/plain": "   BusinessYear StateCode  IssuerId SourceName  VersionNum  \\\n0          2014        AK     21989       HIOS           6   \n1          2014        AK     21989       HIOS           6   \n2          2014        AK     21989       HIOS           6   \n\n            ImportDate  IssuerId2  FederalTIN RateEffectiveDate  \\\n0  2014-03-19 07:06:49      21989  93-0438772        2014-01-01   \n1  2014-03-19 07:06:49      21989  93-0438772        2014-01-01   \n2  2014-03-19 07:06:49      21989  93-0438772        2014-01-01   \n\n  RateExpirationDate    ...     IndividualRate IndividualTobaccoRate Couple  \\\n0         2014-12-31    ...              29.00                   NaN    NaN   \n1         2014-12-31    ...              36.95                   NaN   73.9   \n2         2014-12-31    ...              36.95                   NaN   73.9   \n\n  PrimarySubscriberAndOneDependent  PrimarySubscriberAndTwoDependents  \\\n0                              NaN                                NaN   \n1                           107.61                             107.61   \n2                           107.61                             107.61   \n\n   PrimarySubscriberAndThreeOrMoreDependents  CoupleAndOneDependent  \\\n0                                        NaN                    NaN   \n1                                     107.61                 144.56   \n2                                     107.61                 144.56   \n\n   CoupleAndTwoDependents  CoupleAndThreeOrMoreDependents  RowNumber  \n0                     NaN                             NaN         14  \n1                  144.56                          144.56         14  \n2                  144.56                          144.56         15  \n\n[3 rows x 24 columns]"
                    }, 
                    "metadata": {}
                }
            ], 
            "source": "rate_raw = pd.read_csv(get_file_content(credentials_4))\nrate_raw.head(3)", 
            "metadata": {
                "collapsed": false
            }, 
            "cell_type": "code"
        }, 
        {
            "execution_count": 7, 
            "outputs": [
                {
                    "name": "stderr", 
                    "output_type": "stream", 
                    "text": "/usr/local/src/bluemix_jupyter_bundle.v36/notebook/lib/python2.7/site-packages/IPython/core/interactiveshell.py:2723: DtypeWarning: Columns (0,7,8,9,10,11,12,13,14,15,18,19,20,22,23,24,25,26,27,28,29,31,32,33,34,39,40,41,42,66,67,68,70,71,72,75,76,77,79,80,81,82,84,85,86,88,89,90,92,93,94,96,97,98,136,137,138,140,141,142,145,146,147,150,151,152,154,155,156,158,159,160,162,163,164,166,167,168) have mixed types. Specify dtype option on import or set low_memory=False.\n  interactivity=interactivity, compiler=compiler, result=result)\n"
                }, 
                {
                    "execution_count": 7, 
                    "output_type": "execute_result", 
                    "data": {
                        "text/html": "<div>\n<table border=\"1\" class=\"dataframe\">\n  <thead>\n    <tr style=\"text-align: right;\">\n      <th></th>\n      <th>AVCalculatorOutputNumber</th>\n      <th>BeginPrimaryCareCostSharingAfterNumberOfVisits</th>\n      <th>BeginPrimaryCareDeductibleCoinsuranceAfterNumberOfCopays</th>\n      <th>BenefitPackageId</th>\n      <th>BusinessYear</th>\n      <th>CSRVariationType</th>\n      <th>ChildOnlyOffering</th>\n      <th>ChildOnlyPlanId</th>\n      <th>CompositeRatingOffered</th>\n      <th>DEHBCombInnOonFamilyMOOP</th>\n      <th>...</th>\n      <th>TEHBOutOfNetFamilyMOOP</th>\n      <th>TEHBOutOfNetFamilyPerGroupMOOP</th>\n      <th>TEHBOutOfNetFamilyPerPersonMOOP</th>\n      <th>TEHBOutOfNetIndividualMOOP</th>\n      <th>TIN</th>\n      <th>URLForEnrollmentPayment</th>\n      <th>URLForSummaryofBenefitsCoverage</th>\n      <th>UniquePlanDesign</th>\n      <th>VersionNum</th>\n      <th>WellnessProgramOffered</th>\n    </tr>\n  </thead>\n  <tbody>\n    <tr>\n      <th>0</th>\n      <td>NaN</td>\n      <td>0</td>\n      <td>0</td>\n      <td>1</td>\n      <td>2014</td>\n      <td>Standard Low Off Exchange Plan</td>\n      <td>Allows Adult and Child-Only</td>\n      <td>NaN</td>\n      <td>NaN</td>\n      <td>NaN</td>\n      <td>...</td>\n      <td>NaN</td>\n      <td>NaN</td>\n      <td>NaN</td>\n      <td>NaN</td>\n      <td>93-0438772</td>\n      <td>https://www.modahealth.com/employers/enroll.shtml</td>\n      <td>https://www.modahealth.com/producers/grp/den.s...</td>\n      <td>NaN</td>\n      <td>6</td>\n      <td>NaN</td>\n    </tr>\n    <tr>\n      <th>1</th>\n      <td>NaN</td>\n      <td>0</td>\n      <td>0</td>\n      <td>1</td>\n      <td>2014</td>\n      <td>Standard Low On Exchange Plan</td>\n      <td>Allows Adult and Child-Only</td>\n      <td>NaN</td>\n      <td>NaN</td>\n      <td>NaN</td>\n      <td>...</td>\n      <td>NaN</td>\n      <td>NaN</td>\n      <td>NaN</td>\n      <td>NaN</td>\n      <td>93-0438772</td>\n      <td>https://www.modahealth.com/employers/enroll.shtml</td>\n      <td>https://www.modahealth.com/producers/grp/den.s...</td>\n      <td>NaN</td>\n      <td>6</td>\n      <td>NaN</td>\n    </tr>\n    <tr>\n      <th>2</th>\n      <td>NaN</td>\n      <td>0</td>\n      <td>0</td>\n      <td>1</td>\n      <td>2014</td>\n      <td>Standard High Off Exchange Plan</td>\n      <td>Allows Adult and Child-Only</td>\n      <td>NaN</td>\n      <td>NaN</td>\n      <td>NaN</td>\n      <td>...</td>\n      <td>NaN</td>\n      <td>NaN</td>\n      <td>NaN</td>\n      <td>NaN</td>\n      <td>93-0438772</td>\n      <td>https://www.modahealth.com/employers/enroll.shtml</td>\n      <td>https://www.modahealth.com/producers/grp/den.s...</td>\n      <td>NaN</td>\n      <td>6</td>\n      <td>NaN</td>\n    </tr>\n  </tbody>\n</table>\n<p>3 rows \u00d7 176 columns</p>\n</div>", 
                        "text/plain": "  AVCalculatorOutputNumber  BeginPrimaryCareCostSharingAfterNumberOfVisits  \\\n0                      NaN                                               0   \n1                      NaN                                               0   \n2                      NaN                                               0   \n\n   BeginPrimaryCareDeductibleCoinsuranceAfterNumberOfCopays  BenefitPackageId  \\\n0                                                  0                        1   \n1                                                  0                        1   \n2                                                  0                        1   \n\n   BusinessYear                 CSRVariationType            ChildOnlyOffering  \\\n0          2014   Standard Low Off Exchange Plan  Allows Adult and Child-Only   \n1          2014    Standard Low On Exchange Plan  Allows Adult and Child-Only   \n2          2014  Standard High Off Exchange Plan  Allows Adult and Child-Only   \n\n  ChildOnlyPlanId CompositeRatingOffered DEHBCombInnOonFamilyMOOP  \\\n0             NaN                    NaN                      NaN   \n1             NaN                    NaN                      NaN   \n2             NaN                    NaN                      NaN   \n\n           ...           TEHBOutOfNetFamilyMOOP  \\\n0          ...                              NaN   \n1          ...                              NaN   \n2          ...                              NaN   \n\n  TEHBOutOfNetFamilyPerGroupMOOP TEHBOutOfNetFamilyPerPersonMOOP  \\\n0                            NaN                             NaN   \n1                            NaN                             NaN   \n2                            NaN                             NaN   \n\n  TEHBOutOfNetIndividualMOOP         TIN  \\\n0                        NaN  93-0438772   \n1                        NaN  93-0438772   \n2                        NaN  93-0438772   \n\n                             URLForEnrollmentPayment  \\\n0  https://www.modahealth.com/employers/enroll.shtml   \n1  https://www.modahealth.com/employers/enroll.shtml   \n2  https://www.modahealth.com/employers/enroll.shtml   \n\n                     URLForSummaryofBenefitsCoverage UniquePlanDesign  \\\n0  https://www.modahealth.com/producers/grp/den.s...              NaN   \n1  https://www.modahealth.com/producers/grp/den.s...              NaN   \n2  https://www.modahealth.com/producers/grp/den.s...              NaN   \n\n  VersionNum WellnessProgramOffered  \n0          6                    NaN  \n1          6                    NaN  \n2          6                    NaN  \n\n[3 rows x 176 columns]"
                    }, 
                    "metadata": {}
                }
            ], 
            "source": "planattribute_raw = pd.read_csv(get_file_content(credentials_3))\nplanattribute_raw.head(3)", 
            "metadata": {
                "collapsed": false
            }, 
            "cell_type": "code"
        }, 
        {
            "execution_count": 8, 
            "outputs": [], 
            "source": "p = planattribute_raw.groupby([\"StateCode\"], as_index=False)['PlanId'].count()\np = p.rename(columns={'PlanId': 'TotalPlans'})\nstate_df=p[[\"StateCode\",\"TotalPlans\"]]", 
            "metadata": {
                "collapsed": true
            }, 
            "cell_type": "code"
        }, 
        {
            "execution_count": 9, 
            "outputs": [], 
            "source": "path = 'state_df.feather'\nfeather.write_dataframe(state_df, path)", 
            "metadata": {
                "collapsed": false, 
                "scrolled": true
            }, 
            "cell_type": "code"
        }, 
        {
            "source": "#### Let's take a look:", 
            "metadata": {}, 
            "cell_type": "markdown"
        }, 
        {
            "execution_count": 10, 
            "outputs": [
                {
                    "name": "stdout", 
                    "output_type": "stream", 
                    "text": "<class 'pandas.core.frame.DataFrame'>\nInt64Index: 77353 entries, 0 to 77352\nColumns: 176 entries, AVCalculatorOutputNumber to WellnessProgramOffered\ndtypes: float64(7), int64(9), object(160)\nmemory usage: 104.5+ MB\n"
                }
            ], 
            "source": "rate_raw.info()", 
            "metadata": {
                "collapsed": false
            }, 
            "cell_type": "code"
        }, 
        {
            "execution_count": 11, 
            "outputs": [
                {
                    "name": "stdout", 
                    "output_type": "stream", 
                    "text": "<class 'pandas.core.frame.DataFrame'>\nInt64Index: 12694445 entries, 0 to 12694444\nData columns (total 24 columns):\nBusinessYear                                 int64\nStateCode                                    object\nIssuerId                                     int64\nSourceName                                   object\nVersionNum                                   int64\nImportDate                                   object\nIssuerId2                                    int64\nFederalTIN                                   object\nRateEffectiveDate                            object\nRateExpirationDate                           object\nPlanId                                       object\nRatingAreaId                                 object\nTobacco                                      object\nAge                                          object\nIndividualRate                               float64\nIndividualTobaccoRate                        float64\nCouple                                       float64\nPrimarySubscriberAndOneDependent             float64\nPrimarySubscriberAndTwoDependents            float64\nPrimarySubscriberAndThreeOrMoreDependents    float64\nCoupleAndOneDependent                        float64\nCoupleAndTwoDependents                       float64\nCoupleAndThreeOrMoreDependents               float64\nRowNumber                                    int64\ndtypes: float64(9), int64(5), object(10)\nmemory usage: 2.4+ GB\n"
                }
            ], 
            "source": "planattribute_raw.info()", 
            "metadata": {
                "collapsed": false
            }, 
            "cell_type": "code"
        }, 
        {
            "source": "# Data Cleaning", 
            "metadata": {}, 
            "cell_type": "markdown"
        }, 
        {
            "source": "#### Rate File Cleaning", 
            "metadata": {}, 
            "cell_type": "markdown"
        }, 
        {
            "source": "The Individual feature is important for us so we are deleteing all other Attributes. To handle this we will drop them from the dataframe to preserve the integrity of our dataset.                                                      \n\n\nTo do that we'll use this line of code to drop the features entirely:", 
            "metadata": {}, 
            "cell_type": "markdown"
        }, 
        {
            "execution_count": 12, 
            "outputs": [
                {
                    "execution_count": 12, 
                    "output_type": "execute_result", 
                    "data": {
                        "text/html": "<div>\n<table border=\"1\" class=\"dataframe\">\n  <thead>\n    <tr style=\"text-align: right;\">\n      <th></th>\n      <th>BusinessYear</th>\n      <th>IssuerId</th>\n      <th>ImportDate</th>\n      <th>PlanId</th>\n      <th>Age</th>\n      <th>IndividualRate</th>\n      <th>Couple</th>\n      <th>CoupleAndOneDependent</th>\n      <th>CoupleAndTwoDependents</th>\n      <th>CoupleAndThreeOrMoreDependents</th>\n      <th>StateCode</th>\n      <th>Tobacco</th>\n    </tr>\n  </thead>\n  <tbody>\n    <tr>\n      <th>0</th>\n      <td>2014</td>\n      <td>21989</td>\n      <td>2014-03-19 07:06:49</td>\n      <td>21989AK0010001</td>\n      <td>0-20</td>\n      <td>29.00</td>\n      <td>NaN</td>\n      <td>NaN</td>\n      <td>NaN</td>\n      <td>NaN</td>\n      <td>AK</td>\n      <td>No Preference</td>\n    </tr>\n    <tr>\n      <th>1</th>\n      <td>2014</td>\n      <td>21989</td>\n      <td>2014-03-19 07:06:49</td>\n      <td>21989AK0020001</td>\n      <td>Family Option</td>\n      <td>36.95</td>\n      <td>73.9</td>\n      <td>144.56</td>\n      <td>144.56</td>\n      <td>144.56</td>\n      <td>AK</td>\n      <td>No Preference</td>\n    </tr>\n    <tr>\n      <th>2</th>\n      <td>2014</td>\n      <td>21989</td>\n      <td>2014-03-19 07:06:49</td>\n      <td>21989AK0020001</td>\n      <td>Family Option</td>\n      <td>36.95</td>\n      <td>73.9</td>\n      <td>144.56</td>\n      <td>144.56</td>\n      <td>144.56</td>\n      <td>AK</td>\n      <td>No Preference</td>\n    </tr>\n  </tbody>\n</table>\n</div>", 
                        "text/plain": "   BusinessYear  IssuerId           ImportDate          PlanId            Age  \\\n0          2014     21989  2014-03-19 07:06:49  21989AK0010001           0-20   \n1          2014     21989  2014-03-19 07:06:49  21989AK0020001  Family Option   \n2          2014     21989  2014-03-19 07:06:49  21989AK0020001  Family Option   \n\n   IndividualRate  Couple  CoupleAndOneDependent  CoupleAndTwoDependents  \\\n0           29.00     NaN                    NaN                     NaN   \n1           36.95    73.9                 144.56                  144.56   \n2           36.95    73.9                 144.56                  144.56   \n\n   CoupleAndThreeOrMoreDependents StateCode        Tobacco  \n0                             NaN        AK  No Preference  \n1                          144.56        AK  No Preference  \n2                          144.56        AK  No Preference  "
                    }, 
                    "metadata": {}
                }
            ], 
            "source": "rate_data=rate_raw[['BusinessYear','IssuerId','ImportDate','PlanId','Age','IndividualRate','Couple','CoupleAndOneDependent','CoupleAndTwoDependents','CoupleAndThreeOrMoreDependents','StateCode','Tobacco']]\nrate_data.head(3)", 
            "metadata": {
                "collapsed": false
            }, 
            "cell_type": "code"
        }, 
        {
            "execution_count": 31, 
            "outputs": [], 
            "source": "path = 'rate_data.feather'\nfeather.write_dataframe(rate_data, path)", 
            "metadata": {
                "collapsed": true
            }, 
            "cell_type": "code"
        }, 
        {
            "source": "We will focus on family option plans analysis, so we delete all the plans for special ages:\n", 
            "metadata": {}, 
            "cell_type": "markdown"
        }, 
        {
            "execution_count": 13, 
            "outputs": [
                {
                    "execution_count": 13, 
                    "output_type": "execute_result", 
                    "data": {
                        "text/html": "<div>\n<table border=\"1\" class=\"dataframe\">\n  <thead>\n    <tr style=\"text-align: right;\">\n      <th></th>\n      <th>BusinessYear</th>\n      <th>IssuerId</th>\n      <th>ImportDate</th>\n      <th>PlanId</th>\n      <th>Age</th>\n      <th>IndividualRate</th>\n      <th>Couple</th>\n      <th>CoupleAndOneDependent</th>\n      <th>CoupleAndTwoDependents</th>\n      <th>CoupleAndThreeOrMoreDependents</th>\n      <th>StateCode</th>\n      <th>Tobacco</th>\n    </tr>\n  </thead>\n  <tbody>\n    <tr>\n      <th>1</th>\n      <td>2014</td>\n      <td>21989</td>\n      <td>2014-03-19 07:06:49</td>\n      <td>21989AK0020001</td>\n      <td>Family Option</td>\n      <td>36.95</td>\n      <td>73.9</td>\n      <td>144.56</td>\n      <td>144.56</td>\n      <td>144.56</td>\n      <td>AK</td>\n      <td>No Preference</td>\n    </tr>\n    <tr>\n      <th>2</th>\n      <td>2014</td>\n      <td>21989</td>\n      <td>2014-03-19 07:06:49</td>\n      <td>21989AK0020001</td>\n      <td>Family Option</td>\n      <td>36.95</td>\n      <td>73.9</td>\n      <td>144.56</td>\n      <td>144.56</td>\n      <td>144.56</td>\n      <td>AK</td>\n      <td>No Preference</td>\n    </tr>\n    <tr>\n      <th>5</th>\n      <td>2014</td>\n      <td>21989</td>\n      <td>2014-03-19 07:06:49</td>\n      <td>21989AK0020001</td>\n      <td>Family Option</td>\n      <td>36.95</td>\n      <td>73.9</td>\n      <td>144.56</td>\n      <td>144.56</td>\n      <td>144.56</td>\n      <td>AK</td>\n      <td>No Preference</td>\n    </tr>\n  </tbody>\n</table>\n</div>", 
                        "text/plain": "   BusinessYear  IssuerId           ImportDate          PlanId            Age  \\\n1          2014     21989  2014-03-19 07:06:49  21989AK0020001  Family Option   \n2          2014     21989  2014-03-19 07:06:49  21989AK0020001  Family Option   \n5          2014     21989  2014-03-19 07:06:49  21989AK0020001  Family Option   \n\n   IndividualRate  Couple  CoupleAndOneDependent  CoupleAndTwoDependents  \\\n1           36.95    73.9                 144.56                  144.56   \n2           36.95    73.9                 144.56                  144.56   \n5           36.95    73.9                 144.56                  144.56   \n\n   CoupleAndThreeOrMoreDependents StateCode        Tobacco  \n1                          144.56        AK  No Preference  \n2                          144.56        AK  No Preference  \n5                          144.56        AK  No Preference  "
                    }, 
                    "metadata": {}
                }
            ], 
            "source": "rate_df = rate_data[rate_data.Age == \"Family Option\"]\nrate_df.head(3)", 
            "metadata": {
                "collapsed": false
            }, 
            "cell_type": "code"
        }, 
        {
            "execution_count": 14, 
            "outputs": [], 
            "source": "rate_df = rate_df.dropna()", 
            "metadata": {
                "collapsed": true
            }, 
            "cell_type": "code"
        }, 
        {
            "execution_count": 15, 
            "outputs": [], 
            "source": "rate_df['ImportDate']=rate_df['ImportDate'].apply(pd.to_datetime)", 
            "metadata": {
                "collapsed": true
            }, 
            "cell_type": "code"
        }, 
        {
            "execution_count": 16, 
            "outputs": [], 
            "source": "path = 'rate_df.feather'\nfeather.write_dataframe(rate_df, path)", 
            "metadata": {
                "collapsed": true
            }, 
            "cell_type": "code"
        }, 
        {
            "source": "#### Plan Atrribute Data Cleaning", 
            "metadata": {}, 
            "cell_type": "markdown"
        }, 
        {
            "source": "Again we only get important features for us so others we are deleteing all. To handle this we will drop them from the dataframe to preserve the integrity of our dataset. To do that we'll use this line of code to drop the features entirely:", 
            "metadata": {}, 
            "cell_type": "markdown"
        }, 
        {
            "execution_count": 17, 
            "outputs": [
                {
                    "execution_count": 17, 
                    "output_type": "execute_result", 
                    "data": {
                        "text/html": "<div>\n<table border=\"1\" class=\"dataframe\">\n  <thead>\n    <tr style=\"text-align: right;\">\n      <th></th>\n      <th>BusinessYear</th>\n      <th>StateCode</th>\n      <th>IssuerId</th>\n      <th>ImportDate</th>\n      <th>PlanId</th>\n      <th>MetalLevel</th>\n      <th>TEHBInnTier1FamilyMOOP</th>\n      <th>TEHBInnTier1IndividualMOOP</th>\n    </tr>\n  </thead>\n  <tbody>\n    <tr>\n      <th>0</th>\n      <td>2014</td>\n      <td>AK</td>\n      <td>21989</td>\n      <td>2014-03-19 07:06:49</td>\n      <td>21989AK0020002-00</td>\n      <td>Low</td>\n      <td>NaN</td>\n      <td>NaN</td>\n    </tr>\n    <tr>\n      <th>1</th>\n      <td>2014</td>\n      <td>AK</td>\n      <td>21989</td>\n      <td>2014-03-19 07:06:49</td>\n      <td>21989AK0020002-01</td>\n      <td>Low</td>\n      <td>NaN</td>\n      <td>NaN</td>\n    </tr>\n    <tr>\n      <th>2</th>\n      <td>2014</td>\n      <td>AK</td>\n      <td>21989</td>\n      <td>2014-03-19 07:06:49</td>\n      <td>21989AK0020001-00</td>\n      <td>High</td>\n      <td>NaN</td>\n      <td>NaN</td>\n    </tr>\n  </tbody>\n</table>\n</div>", 
                        "text/plain": "   BusinessYear StateCode  IssuerId           ImportDate             PlanId  \\\n0          2014        AK     21989  2014-03-19 07:06:49  21989AK0020002-00   \n1          2014        AK     21989  2014-03-19 07:06:49  21989AK0020002-01   \n2          2014        AK     21989  2014-03-19 07:06:49  21989AK0020001-00   \n\n  MetalLevel TEHBInnTier1FamilyMOOP TEHBInnTier1IndividualMOOP  \n0        Low                    NaN                        NaN  \n1        Low                    NaN                        NaN  \n2       High                    NaN                        NaN  "
                    }, 
                    "metadata": {}
                }
            ], 
            "source": "plan_data=planattribute_raw[['BusinessYear','StateCode','IssuerId','ImportDate','PlanId','MetalLevel',\n                                        'TEHBInnTier1FamilyMOOP','TEHBInnTier1IndividualMOOP']]\nplan_data.head(3)", 
            "metadata": {
                "collapsed": false
            }, 
            "cell_type": "code"
        }, 
        {
            "source": "There are some Nan in 'TEHBInnTier1FamilyMOOP' column. Is there anything else in this column?                                                             \nEven some dollar icons and ','. We have to clean them:", 
            "metadata": {}, 
            "cell_type": "markdown"
        }, 
        {
            "execution_count": 18, 
            "outputs": [
                {
                    "name": "stderr", 
                    "output_type": "stream", 
                    "text": "/usr/local/src/bluemix_jupyter_bundle.v36/notebook/lib/python2.7/site-packages/ipykernel/__main__.py:1: SettingWithCopyWarning: \nA value is trying to be set on a copy of a slice from a DataFrame.\nTry using .loc[row_indexer,col_indexer] = value instead\n\nSee the caveats in the documentation: http://pandas.pydata.org/pandas-docs/stable/indexing.html#indexing-view-versus-copy\n  if __name__ == '__main__':\n"
                }, 
                {
                    "execution_count": 18, 
                    "output_type": "execute_result", 
                    "data": {
                        "text/html": "<div>\n<table border=\"1\" class=\"dataframe\">\n  <thead>\n    <tr style=\"text-align: right;\">\n      <th></th>\n      <th>BusinessYear</th>\n      <th>StateCode</th>\n      <th>IssuerId</th>\n      <th>ImportDate</th>\n      <th>PlanId</th>\n      <th>MetalLevel</th>\n      <th>TEHBInnTier1FamilyMOOP</th>\n      <th>TEHBInnTier1IndividualMOOP</th>\n    </tr>\n  </thead>\n  <tbody>\n    <tr>\n      <th>0</th>\n      <td>2014</td>\n      <td>AK</td>\n      <td>21989</td>\n      <td>2014-03-19 07:06:49</td>\n      <td>21989AK0020002-00</td>\n      <td>Low</td>\n      <td>NaN</td>\n      <td>NaN</td>\n    </tr>\n    <tr>\n      <th>1</th>\n      <td>2014</td>\n      <td>AK</td>\n      <td>21989</td>\n      <td>2014-03-19 07:06:49</td>\n      <td>21989AK0020002-01</td>\n      <td>Low</td>\n      <td>NaN</td>\n      <td>NaN</td>\n    </tr>\n    <tr>\n      <th>2</th>\n      <td>2014</td>\n      <td>AK</td>\n      <td>21989</td>\n      <td>2014-03-19 07:06:49</td>\n      <td>21989AK0020001-00</td>\n      <td>High</td>\n      <td>NaN</td>\n      <td>NaN</td>\n    </tr>\n  </tbody>\n</table>\n</div>", 
                        "text/plain": "   BusinessYear StateCode  IssuerId           ImportDate             PlanId  \\\n0          2014        AK     21989  2014-03-19 07:06:49  21989AK0020002-00   \n1          2014        AK     21989  2014-03-19 07:06:49  21989AK0020002-01   \n2          2014        AK     21989  2014-03-19 07:06:49  21989AK0020001-00   \n\n  MetalLevel TEHBInnTier1FamilyMOOP TEHBInnTier1IndividualMOOP  \n0        Low                    NaN                        NaN  \n1        Low                    NaN                        NaN  \n2       High                    NaN                        NaN  "
                    }, 
                    "metadata": {}
                }
            ], 
            "source": "plan_data['TEHBInnTier1FamilyMOOP']=plan_data['TEHBInnTier1FamilyMOOP'].str.replace('$','').str.replace(',','')\nplan_data.head(3)", 
            "metadata": {
                "collapsed": false
            }, 
            "cell_type": "code"
        }, 
        {
            "source": "\nDelete all the 'Not Applicable' rows:", 
            "metadata": {}, 
            "cell_type": "markdown"
        }, 
        {
            "execution_count": 19, 
            "outputs": [], 
            "source": "plan_data=plan_data.drop(plan_data[plan_data['TEHBInnTier1FamilyMOOP']=='Not Applicable'].index)", 
            "metadata": {
                "collapsed": true
            }, 
            "cell_type": "code"
        }, 
        {
            "source": "Delete all the NAN rows:", 
            "metadata": {}, 
            "cell_type": "markdown"
        }, 
        {
            "execution_count": 20, 
            "outputs": [], 
            "source": "plan_data['TEHBInnTier1FamilyMOOP']=plan_data['TEHBInnTier1FamilyMOOP'].fillna(99999999)\nplan_data=plan_data.drop(plan_data[plan_data['TEHBInnTier1FamilyMOOP']==99999999].index)", 
            "metadata": {
                "collapsed": true
            }, 
            "cell_type": "code"
        }, 
        {
            "source": "Convert Import date to pandas date time.", 
            "metadata": {}, 
            "cell_type": "markdown"
        }, 
        {
            "execution_count": 21, 
            "outputs": [], 
            "source": "plan_data['ImportDate']=plan_data['ImportDate'].apply(pd.to_datetime)", 
            "metadata": {
                "collapsed": true
            }, 
            "cell_type": "code"
        }, 
        {
            "source": "We are Changing the 'TEHBInnTier1FamilyMOOP' to 'Family_Up_Limit' for our better understanding.", 
            "metadata": {}, 
            "cell_type": "markdown"
        }, 
        {
            "execution_count": 22, 
            "outputs": [], 
            "source": "plan_data['Family_Up_Limit']=''\nfor x in plan_data.index:\n    plan_data.ix[x,\"Family_Up_Limit\"]=float(plan_data.ix[x,'TEHBInnTier1FamilyMOOP'])\nplan_data['Family_Up_Limit']=plan_data['Family_Up_Limit'].astype(int) # Transfer object to int", 
            "metadata": {
                "collapsed": true
            }, 
            "cell_type": "code"
        }, 
        {
            "source": "We are also Changing the 'TEHBInnTier1IndividualMOOP' to 'Individual_Up_Limit' for better understanding\n", 
            "metadata": {}, 
            "cell_type": "markdown"
        }, 
        {
            "execution_count": 23, 
            "outputs": [
                {
                    "execution_count": 23, 
                    "output_type": "execute_result", 
                    "data": {
                        "text/html": "<div>\n<table border=\"1\" class=\"dataframe\">\n  <thead>\n    <tr style=\"text-align: right;\">\n      <th></th>\n      <th>BusinessYear</th>\n      <th>StateCode</th>\n      <th>IssuerId</th>\n      <th>ImportDate</th>\n      <th>PlanId</th>\n      <th>MetalLevel</th>\n      <th>TEHBInnTier1FamilyMOOP</th>\n      <th>TEHBInnTier1IndividualMOOP</th>\n      <th>Family_Up_Limit</th>\n      <th>Individual_Up_Limit</th>\n    </tr>\n  </thead>\n  <tbody>\n    <tr>\n      <th>6</th>\n      <td>2014</td>\n      <td>AK</td>\n      <td>73836</td>\n      <td>2014-04-18 11:49:29</td>\n      <td>73836AK0650002-00</td>\n      <td>Bronze</td>\n      <td>12700</td>\n      <td>6350</td>\n      <td>12700</td>\n      <td>6350</td>\n    </tr>\n    <tr>\n      <th>7</th>\n      <td>2014</td>\n      <td>AK</td>\n      <td>73836</td>\n      <td>2014-04-18 11:49:29</td>\n      <td>73836AK0680004-00</td>\n      <td>Gold</td>\n      <td>8000</td>\n      <td>4000</td>\n      <td>8000</td>\n      <td>4000</td>\n    </tr>\n    <tr>\n      <th>8</th>\n      <td>2014</td>\n      <td>AK</td>\n      <td>73836</td>\n      <td>2014-04-18 11:49:29</td>\n      <td>73836AK0680004-01</td>\n      <td>Gold</td>\n      <td>8000</td>\n      <td>4000</td>\n      <td>8000</td>\n      <td>4000</td>\n    </tr>\n  </tbody>\n</table>\n</div>", 
                        "text/plain": "   BusinessYear StateCode  IssuerId          ImportDate             PlanId  \\\n6          2014        AK     73836 2014-04-18 11:49:29  73836AK0650002-00   \n7          2014        AK     73836 2014-04-18 11:49:29  73836AK0680004-00   \n8          2014        AK     73836 2014-04-18 11:49:29  73836AK0680004-01   \n\n  MetalLevel TEHBInnTier1FamilyMOOP TEHBInnTier1IndividualMOOP  \\\n6     Bronze                  12700                       6350   \n7       Gold                   8000                       4000   \n8       Gold                   8000                       4000   \n\n   Family_Up_Limit  Individual_Up_Limit  \n6            12700                 6350  \n7             8000                 4000  \n8             8000                 4000  "
                    }, 
                    "metadata": {}
                }
            ], 
            "source": "plan_data['TEHBInnTier1IndividualMOOP']=plan_data['TEHBInnTier1IndividualMOOP'].str.replace('$','').str.replace(',','')\nplan_data['Individual_Up_Limit']=''\nfor x in plan_data.index:\n    plan_data.ix[x,\"Individual_Up_Limit\"]=float(plan_data.ix[x,'TEHBInnTier1IndividualMOOP'])\nplan_data['Individual_Up_Limit']=plan_data['Individual_Up_Limit'].astype(int) # Transfer object to int\nplan_data.head(3)", 
            "metadata": {
                "collapsed": false
            }, 
            "cell_type": "code"
        }, 
        {
            "source": "Drop the useless columns like 'TEHBInnTier1IndividualMOOP','TEHBInnTier1FamilyMOOP'\n", 
            "metadata": {}, 
            "cell_type": "markdown"
        }, 
        {
            "execution_count": 24, 
            "outputs": [
                {
                    "execution_count": 24, 
                    "output_type": "execute_result", 
                    "data": {
                        "text/html": "<div>\n<table border=\"1\" class=\"dataframe\">\n  <thead>\n    <tr style=\"text-align: right;\">\n      <th></th>\n      <th>BusinessYear</th>\n      <th>StateCode</th>\n      <th>IssuerId</th>\n      <th>ImportDate</th>\n      <th>PlanId</th>\n      <th>MetalLevel</th>\n      <th>Family_Up_Limit</th>\n      <th>Individual_Up_Limit</th>\n    </tr>\n  </thead>\n  <tbody>\n    <tr>\n      <th>6</th>\n      <td>2014</td>\n      <td>AK</td>\n      <td>73836</td>\n      <td>2014-04-18 11:49:29</td>\n      <td>73836AK0650002-00</td>\n      <td>Bronze</td>\n      <td>12700</td>\n      <td>6350</td>\n    </tr>\n    <tr>\n      <th>7</th>\n      <td>2014</td>\n      <td>AK</td>\n      <td>73836</td>\n      <td>2014-04-18 11:49:29</td>\n      <td>73836AK0680004-00</td>\n      <td>Gold</td>\n      <td>8000</td>\n      <td>4000</td>\n    </tr>\n    <tr>\n      <th>8</th>\n      <td>2014</td>\n      <td>AK</td>\n      <td>73836</td>\n      <td>2014-04-18 11:49:29</td>\n      <td>73836AK0680004-01</td>\n      <td>Gold</td>\n      <td>8000</td>\n      <td>4000</td>\n    </tr>\n  </tbody>\n</table>\n</div>", 
                        "text/plain": "   BusinessYear StateCode  IssuerId          ImportDate             PlanId  \\\n6          2014        AK     73836 2014-04-18 11:49:29  73836AK0650002-00   \n7          2014        AK     73836 2014-04-18 11:49:29  73836AK0680004-00   \n8          2014        AK     73836 2014-04-18 11:49:29  73836AK0680004-01   \n\n  MetalLevel  Family_Up_Limit  Individual_Up_Limit  \n6     Bronze            12700                 6350  \n7       Gold             8000                 4000  \n8       Gold             8000                 4000  "
                    }, 
                    "metadata": {}
                }
            ], 
            "source": "plan_df=plan_data.drop(plan_data[[6,7]],1)\nplan_df.head(3)", 
            "metadata": {
                "collapsed": false
            }, 
            "cell_type": "code"
        }, 
        {
            "execution_count": 25, 
            "outputs": [], 
            "source": "path = 'plan_df.feather'\nfeather.write_dataframe(plan_df, path)", 
            "metadata": {
                "collapsed": true
            }, 
            "cell_type": "code"
        }, 
        {
            "execution_count": 26, 
            "outputs": [], 
            "source": "plan_df1=planattribute_raw[['PlanId','IssuerId','BusinessYear','DentalOnlyPlan','IsNewPlan','OutOfCountryCoverage','NationalNetwork']]\nplan_df1 = plan_df1.dropna()", 
            "metadata": {
                "collapsed": true
            }, 
            "cell_type": "code"
        }, 
        {
            "execution_count": 27, 
            "outputs": [], 
            "source": "train_df = plan_df1[1:70000]\ntest_df = plan_df1[70001:77353]", 
            "metadata": {
                "collapsed": false
            }, 
            "cell_type": "code"
        }, 
        {
            "execution_count": 28, 
            "outputs": [], 
            "source": "test_df=test_df.drop(['DentalOnlyPlan'], axis=1)\ntrain_df=train_df.drop(['PlanId'], axis=1)", 
            "metadata": {
                "collapsed": true
            }, 
            "cell_type": "code"
        }, 
        {
            "source": "Conversion of age from a factor to a numeric variable: IsNewPlan,DentalOnlyPlan,OutOfCountryCoverage,NationalNetwork attributes belonging to           PlanAttribute.csv is filtered as follows: \u2013                                  \nRecords with age value \u201cYes\u201d is converted to numeric value 1                             \nRecords with age value \u201cNo\u201c are converted into numeric value 0       \nRecords with age value \u201cNew\u201c are converted into numeric value 1              \nRecords with age value \u201cExisting\u201c are converted into numeric value 0           ", 
            "metadata": {}, 
            "cell_type": "markdown"
        }, 
        {
            "execution_count": 29, 
            "outputs": [], 
            "source": "mapping = {'Yes':1,'No':0}\nmapping1={'New':1,'Existing':0}\nvalue=0\ntrain_df['PlanType'] = train_df['DentalOnlyPlan'].map(mapping).astype(int)\ntrain_df['NewPlan'] = train_df['IsNewPlan'].map(mapping1).astype(int)\ntest_df['NewPlan'] = test_df['IsNewPlan'].map(mapping1).astype(int)\ntrain_df['CountryCoverage'] = train_df['OutOfCountryCoverage'].map(mapping).fillna(value).astype(int)\ntest_df['CountryCoverage'] = test_df['OutOfCountryCoverage'].map(mapping).fillna(value).astype(int)\ntrain_df['NetworkType'] = train_df['NationalNetwork'].map(mapping).fillna(value).astype(int)\ntest_df['NetworkType'] = test_df['NationalNetwork'].map(mapping).fillna(value).astype(int)\n\ntrain_df=train_df.drop(['DentalOnlyPlan','IsNewPlan','OutOfCountryCoverage','NationalNetwork'], axis=1)\ntest_df=test_df.drop(['IsNewPlan','OutOfCountryCoverage','NationalNetwork'], axis=1)", 
            "metadata": {
                "collapsed": true
            }, 
            "cell_type": "code"
        }, 
        {
            "execution_count": 30, 
            "outputs": [], 
            "source": "path = 'plan_train_df.feather'\nfeather.write_dataframe(train_df, path)\npath = 'plan_test_df.feather'\nfeather.write_dataframe(test_df, path)", 
            "metadata": {
                "collapsed": true
            }, 
            "cell_type": "code"
        }, 
        {
            "source": "# Conclusion", 
            "metadata": {
                "collapsed": true
            }, 
            "cell_type": "markdown"
        }, 
        {
            "source": "### In this Notebook we have done\n### 1 : Data Cleaning for both rate and plan files.\n### 2 : We removed outliers from data.\n### 3 : We have done feature extraction for ML and visualization", 
            "metadata": {}, 
            "cell_type": "markdown"
        }, 
        {
            "source": "# Thanks!", 
            "metadata": {}, 
            "cell_type": "markdown"
        }
    ]
}